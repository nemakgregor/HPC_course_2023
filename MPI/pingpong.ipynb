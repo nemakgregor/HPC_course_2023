%%writefile pingpong.cpp

#include <iostream>
#include <mpi.h>
#include <ctime>
#include <cstdlib>
#include <vector>
#include <sstream>

int main(int argc, char *argv[]) 
{
    int N = 10000;

    MPI_Init(&argc, &argv);
    int rank, size;
    
    MPI_Comm_rank(MPI_COMM_WORLD, &rank);
    MPI_Comm_size(MPI_COMM_WORLD, &size);

    double start_time, end_time;
    start_time = MPI_Wtime();

    if (rank == 0) 
    {
        int next_process = rand() % size;
        while (next_process == 0)
            next_process = rand() % size;

        std::string names = "rank";
        MPI_Ssend(&names[0], names.size(), MPI_CHAR, next_process, 0, MPI_COMM_WORLD);
    }

    for (int i = 0; i <= N; ++i) 
    {
        if (rank != 0) 
        {
            int incoming_size;
            std::string names_received;
            MPI_Recv(&names_received[0], incoming_size, MPI_CHAR, MPI_ANY_SOURCE, 0, MPI_COMM_WORLD, MPI_STATUS_IGNORE);

            if (i < N) 
            {
                int next_process = rand() % size;
                while (next_process == rank)
                    next_process = rand() % size;
        
                names_received += "rank";
                MPI_Ssend(names_received.c_str(), names_received.size(), MPI_CHAR, next_process, 0, MPI_COMM_WORLD);
            } 
            else
                std::cout << "Processor " << rank << " received: " << names_received << std::endl;
        }
    }

    end_time = MPI_Wtime();
    std::cout << "Rank" << rank << std::endl;

    if (rank == 0)
        std::cout << "Total time: " << (end_time - start_time) << " seconds" << std::endl;
    

    MPI_Finalize();

    std::cout << "ok" << std::endl;
    return 0;
}


!mpicxx -o ping pingpong.cpp

!mpirun -n 4 --allow-run-as-root --oversubscribe ./ping
