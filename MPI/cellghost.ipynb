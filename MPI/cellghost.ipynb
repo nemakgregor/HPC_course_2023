%%writefile cellghost.cpp

#include <iostream>
#include <vector>
#include <cstdlib>
#include <ctime>
#include <mpi.h>

const int ARRAY_SIZE = 10;
const int NUM_STEPS = 10;

void init_array(std::vector<int> &array) 
{
  for (int i = 0; i < ARRAY_SIZE; ++i)
    array[i] = rand() % 2;
}

void update_array(const std::vector<int> &local_array, std::vector<int> &local_next) 
{
  int local_size = local_array.size();

  for (int i = 1; i < local_size - 1; ++i) 
  {
    if (local_array[i - 1] + local_array[i + 1] == 2)
      local_next[i] = 1;
    else
      local_next[i] = 0;
  }
}

void exchange_ghost_cells(std::vector<int> &local_array, int rank, int size) 
{
  int left_rank = (rank - 1 + size) % size;
  int right_rank = (rank + 1) % size;

  MPI_Sendrecv(&local_array[1], 1, MPI_INT, left_rank, 0, &local_array[local_array.size() - 1], 1, MPI_INT, right_rank, 0, MPI_COMM_WORLD, MPI_STATUS_IGNORE);
  MPI_Sendrecv(&local_array[local_array.size() - 2], 1, MPI_INT, right_rank, 0, &local_array[0], 1, MPI_INT, left_rank, 0, MPI_COMM_WORLD, MPI_STATUS_IGNORE);
}

int main(int argc, char **argv) 
{
  srand(time(NULL));

  MPI_Init(&argc, &argv);

  int rank, size;
  MPI_Comm_rank(MPI_COMM_WORLD, &rank);
  MPI_Comm_size(MPI_COMM_WORLD, &size);

  std::vector<int> global_array(ARRAY_SIZE);

  if (rank == 0)
    init_array(global_array);

  int chunk_size = ARRAY_SIZE / size;
  std::vector<int> sendcounts(size);
  std::vector<int> displs(size);
  
  //std::cout << "Size = " << size << ", rank = " << rank << std::endl;
  for (int i = 0; i < size; ++i) 
  {
    sendcounts[i] = chunk_size + (i < ARRAY_SIZE % size ? 1 : 0);
    displs[i] = i * chunk_size + std::min(i, ARRAY_SIZE % size);

    //std::cout << sendcounts[i] << ", " << displs[i] << std::endl;
  }

  int local_size = sendcounts[rank];
  std::vector<int> local_array(local_size + 2), local_next(local_size+2);

  MPI_Scatterv(global_array.data(), sendcounts.data(), displs.data(), MPI_INT, &local_array[1], local_size, MPI_INT, 0, MPI_COMM_WORLD);


  for (int step = 0; step < NUM_STEPS; ++step) 
  {
    exchange_ghost_cells(local_array, rank, size);

    update_array(local_array, local_next);

    local_array.swap(local_next);

    MPI_Barrier(MPI_COMM_WORLD);

    if (rank == 0) 
    {
      MPI_Gather(&local_array[1], chunk_size, MPI_INT, global_array.data(), chunk_size, MPI_INT, 0, MPI_COMM_WORLD);
      for (int i = 0; i < ARRAY_SIZE; ++i)
        std::cout << global_array[i] << " ";
      std::cout << std::endl;
    } 
    else
      MPI_Gather(&local_array[1], chunk_size, MPI_INT, nullptr, 0, MPI_INT, 0, MPI_COMM_WORLD);
  }

  MPI_Finalize();

  return 0;
}


!mpicxx -o cellghost cellghost.cpp

!mpirun -n 3 --allow-run-as-root --oversubscribe ./cellghost
