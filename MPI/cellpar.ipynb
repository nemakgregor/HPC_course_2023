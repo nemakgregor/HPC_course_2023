%%writefile cellpar.cpp

#include <iostream>
#include <vector>
#include <cstdlib>
#include <ctime>
#include <mpi.h>

const int ARRAY_SIZE = 20;
const int NUM_STEPS = 100;

void init_array(std::vector<int> &array) 
{
  for (int i = 0; i < ARRAY_SIZE; ++i)
    array[i] = rand() % 2;
}

void update_array_periodic(const std::vector<int> &current, std::vector<int> &next, int start, int end) 
{
  for (int i = start; i < end; ++i)
  {
    int left = (i - 1 + ARRAY_SIZE) % ARRAY_SIZE;
    int right = (i + 1) % ARRAY_SIZE;
    next[i] = (current[left] + current[i] + current[right]) % 2;
  }
}

void update_array_constant(const std::vector<int> &current, std::vector<int> &next, int start, int end) 
{
  for (int i = std::max(1, start); i < std::min(ARRAY_SIZE - 1, end); ++i)
    next[i] = (current[i - 1] + current[i] + current[i + 1]) % 2;
  
  if (start == 0) 
    next[0] = current[0];
  
  if (end == ARRAY_SIZE) 
    next[ARRAY_SIZE - 1] = current[ARRAY_SIZE - 1];
  
}

int main(int argc, char **argv)
{
  srand(time(nullptr));

  MPI_Init(&argc, &argv);

  int rank, size;
  MPI_Comm_rank(MPI_COMM_WORLD, &rank);
  MPI_Comm_size(MPI_COMM_WORLD, &size);

  std::vector<int> current(ARRAY_SIZE), next(ARRAY_SIZE);

  if (rank == 0)
    init_array(current);

  MPI_Bcast(current.data(), ARRAY_SIZE, MPI_INT, 0, MPI_COMM_WORLD);

  int chunk_size = ARRAY_SIZE / size;
  int start = rank * chunk_size-1;
  int end = (rank + 1) * chunk_size+1;

  if (start < 0)
    start = 0;
  if (end > ARRAY_SIZE)
    end = ARRAY_SIZE;

  for (int step = 0; step < NUM_STEPS; ++step) 
  {
    std::cout << "Rank = " << rank << std::endl;
    if (step % 2 == 0)
      update_array_periodic(current, next, start, end);
    else
      update_array_constant(current, next, start, end);

    MPI_Allgather(MPI_IN_PLACE, 0, MPI_DATATYPE_NULL, next.data(), chunk_size, MPI_INT, MPI_COMM_WORLD);

    current.swap(next);

      if (rank == 0) 
      {
        for (int i = 0; i < ARRAY_SIZE; ++i)
          std::cout << current[i] << " ";
      }
      
  }

  MPI_Finalize();

  return 0;
}



!mpicxx -o cellpar cellpar.cpp

!mpirun -n 3 --allow-run-as-root --oversubscribe ./cellpar
