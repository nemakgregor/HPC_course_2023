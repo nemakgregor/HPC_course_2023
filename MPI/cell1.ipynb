%%writefile cell.cpp

#include <iostream>
#include <vector>
#include <cstdlib>
#include <ctime>
#include <mpi.h>

const int ARRAY_SIZE = 20;
const int NUM_STEPS = 100;

void init_array(std::vector<int> &array) 
{
  for (int i = 0; i < ARRAY_SIZE; ++i) 
    array[i] = rand() % 2;
}

void update_array_periodic(const std::vector<int> &current, std::vector<int> &next) 
{
  for (int i = 0; i < ARRAY_SIZE; ++i) 
  {
    int left = (i - 1 + ARRAY_SIZE) % ARRAY_SIZE;
    int right = (i + 1) % ARRAY_SIZE;
    next[i] = (current[left] + current[i] + current[right]) % 2;
  }
}

void update_array_constant(const std::vector<int> &current, std::vector<int> &next) 
{
  for (int i = 1; i < ARRAY_SIZE - 1; ++i) 
    next[i] = (current[i - 1] + current[i] + current[i + 1]) % 2;
  
  next[0] = current[0];
  next[ARRAY_SIZE - 1] = current[ARRAY_SIZE - 1];
}

int main(int argc, char **argv) 
{
  srand(time(nullptr));

  MPI_Init(&argc, &argv);

  int rank, size;
  MPI_Comm_rank(MPI_COMM_WORLD, &rank);
  MPI_Comm_size(MPI_COMM_WORLD, &size);

  if (size != 1) 
  {
    std::cerr << "This example only works with 1 process." << std::endl;
    MPI_Abort(MPI_COMM_WORLD, 1);
  }

  std::vector<int> current(ARRAY_SIZE), next(ARRAY_SIZE);

  init_array(current);

  for (int step = 0; step < NUM_STEPS; ++step) 
  {
    if (step % 2 == 0) 
      update_array_periodic(current, next);

    else 
      update_array_constant(current, next);

    current.swap(next);
    
    for (int i = 0; i < ARRAY_SIZE; ++i) 
      std::cout << current[i] << " ";

    std::cout << "Rank = " << rank << std::endl;
  }

  MPI_Finalize();

  return 0;
}

!mpicxx -o cell cell.cpp

!mpirun -n 1 --allow-run-as-root --oversubscribe ./cell
