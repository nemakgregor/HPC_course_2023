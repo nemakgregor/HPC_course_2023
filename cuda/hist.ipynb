%%writefile hist.cu

#include <cuda.h>
#include <fstream>

#define STB_IMAGE_IMPLEMENTATION
#include "stb_image.h"

#define STB_IMAGE_WRITE_IMPLEMENTATION
#include "stb_image_write.h"

#define BLOCK_SIZE 256
#define NUM_BINS 256

__global__ void histogramKernel(unsigned char* img, int imgSize, int* histogram) 
{
    int idx = threadIdx.x + blockIdx.x * blockDim.x;

    if(idx < imgSize)
        atomicAdd(&(histogram[img[idx]]), 1);
}

int main() 
{
    int width, height, channels;

    unsigned char* img = stbi_load("photo.jpg", &width, &height, &channels, 1);

    int imgSize = width * height;
    unsigned char* d_img;
    int* histogram = new int[NUM_BINS]();
    int* d_histogram;

    cudaMalloc(&d_img, imgSize * sizeof(unsigned char));
    cudaMalloc(&d_histogram, NUM_BINS * sizeof(int));

    cudaMemcpy(d_img, img, imgSize * sizeof(unsigned char), cudaMemcpyHostToDevice);
    cudaMemcpy(d_histogram, histogram, NUM_BINS * sizeof(int), cudaMemcpyHostToDevice);

    histogramKernel<<<(imgSize + BLOCK_SIZE - 1) / BLOCK_SIZE, BLOCK_SIZE>>>(d_img, imgSize, d_histogram);

    cudaMemcpy(histogram, d_histogram, NUM_BINS * sizeof(int), cudaMemcpyDeviceToHost);

    FILE* file = fopen("histogram.txt", "w");
    if (file != NULL) 
    {
        for(int i = 0; i < NUM_BINS; i++)
            fprintf(file, "%d %d\n", i, histogram[i]);

        fclose(file);
    }

    cudaFree(d_img);
    cudaFree(d_histogram);
    stbi_image_free(img);
    delete[] histogram;

    return 0;
}

!nvcc hist.cu -o h

!./h

import matplotlib.pyplot as plt

data = []
with open('histogram.txt', 'r') as f:
    for line in f:
        bin, count = map(int, line.split())
        data.append((bin, count))

bins, counts = zip(*data)

plt.bar(bins, counts)
plt.xlabel('Pixel intensity')
plt.ylabel('Frequency')
plt.title('Image histogram')
plt.show()
