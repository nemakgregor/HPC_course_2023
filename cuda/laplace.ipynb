%%writefile lap.cu

#include <cuda.h>
#include <cmath>
#include <iostream>
#include <vector>
#include <fstream>

__global__ void laplace2d_jacobi(float* unew, const float* u, std::size_t size) 
{
    printf("gpu\n");

    int i = blockIdx.x * blockDim.x + threadIdx.x;
    int j = blockIdx.y * blockDim.y + threadIdx.y;

    printf("i = %d, j = %d\n", i, j);

    if (i > 0 && j > 0 && i < size - 1 && j < size - 1) {
        unew[j * size + i] = 0.25 * (u[j * size + (i - 1)] + u[j * size + (i + 1)]
                                    + u[(j - 1) * size + i] + u[(j + 1) * size + i]);
    }
}

void solve_laplace2d(int n, float tol) {


    std::size_t size = static_cast<std::size_t>(n);

    float* u_h = new float[size*size];
    float* unew;
    float* u;
    
    cudaMalloc(&unew, size * size * sizeof(float));
    cudaMalloc(&u, size * size * sizeof(float));

    // Initialize boundary conditions
    for (std::size_t i = 0; i < size; ++i) 
        for (std::size_t j = 0; j < size; ++j) 
                u_h[j * size + i] = 0.0;

    for (std::size_t j = 0; j < size; ++j) 
        u_h[j * size] = 1.0;

    for (std::size_t i = 0; i < size; ++i) 
    {
        for (std::size_t j = 0; j < size; ++j) 
                std::cout << u_h[j * size + i]  << " ";
        std::cout << std::endl;
    }

    dim3 threadsPerBlock(16);
    dim3 numBlocks((n + threadsPerBlock.x - 1) / threadsPerBlock.x, 
                   (n + threadsPerBlock.y - 1) / threadsPerBlock.y);

    float error = tol;
    int ab = 0;
    while (ab < 10) 
    {
        std::cout << "ab = " << ab << std::endl;

        cudaMemcpy(u, u_h, size * size * sizeof(float), cudaMemcpyHostToDevice);
        std::cout << "copied" << std::endl;

        laplace2d_jacobi<<<numBlocks, threadsPerBlock>>>(unew, u, size);

        std::cout << "calculated" << std::endl;

        cudaDeviceSynchronize();
        
        cudaMemcpy(u_h, unew, size * size * sizeof(float), cudaMemcpyDeviceToHost);


        error = 0.0;
        for (std::size_t i = 1; i < size - 1; ++i) {
            for (std::size_t j = 1; j < size - 1; ++j) {
                float diff = unew[j * size + i] - u[j * size + i];
                error = fmaxf(error, fabsf(diff));
            }
        }

        for (std::size_t i = 0; i < size; ++i) 
        {
            for (std::size_t j = 0; j < size; ++j) 
                    std::cout << u[j * size + i]  << " ";
            std::cout << std::endl;
        }
        ab++;
    }

    std::ofstream file;
    file.open("solution.txt");
    for (std::size_t i = 0; i < size; ++i) {
        for (std::size_t j = 0; j < size; ++j) {
            float value = unew[j * size + i];
            file << value << " ";
            //std::cout << value << " ";
        }
        file << "\n";
        //std::cout << "\n";
    }
    file.close();

    cudaFree(u);
    cudaFree(unew);
}

int main() {
    const int N = 10;  // size of the grid
    const float TOL = 1e-5;  // tolerance for stopping criterion

    solve_laplace2d(N, TOL);

    printf("OK");
    return 0;
}


!nvcc lap.cu -o lap

!./lap

import numpy as np
import matplotlib.pyplot as plt

# Load the solution
solution = np.loadtxt('solution.txt')

# Plot the solution
plt.imshow(solution, cmap='hot', interpolation='nearest')
plt.colorbar(label='u(x, y)')
plt.show()


import numpy as np
import matplotlib.pyplot as plt

# Define the grid size and spacing
nx = 100
ny = 100
dx = 1.0 / (nx - 1)
dy = 1.0 / (ny - 1)

# Initialize the solution array
u = np.zeros((ny, nx))

# Set the boundary conditions
u[0,:] = 1.0  # u(x,y=0) = 1
u[-1,:] = 0.0  # u(x,y=1) = 0
u[:,0] = 0.0  # u(x=0,y) = 0
u[:,-1] = 0.0  # u(x=1,y) = 0

# Perform the finite difference method
for k in range(1000):
    for i in range(1, ny - 1):
        for j in range(1, nx - 1):
            u[i,j] = 0.25 * (u[i+1,j] + u[i-1,j] + u[i,j+1] + u[i,j-1])

# Plot the solution heatmap
plt.imshow(u, cmap='hot', origin='lower', extent=[0, 1, 0, 1])
plt.colorbar()
plt.xlabel('x')
plt.ylabel('y')
plt.title('Solution')
plt.show()
