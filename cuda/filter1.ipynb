%%writefile filt1.cu

#include <cuda.h>

#define STB_IMAGE_IMPLEMENTATION
#include "stb_image.h"

#define STB_IMAGE_WRITE_IMPLEMENTATION
#include "stb_image_write.h"


// Define the size of the blocks for the GPU
#define BLOCK_SIZE 16

// Define the filter size
#define FILTER_SIZE 5

// Kernel for a 3x3 box blur filter
__global__ void blur_kernel(unsigned char* input, unsigned char* output, int width, int height) {
    int xIndex = threadIdx.x + blockIdx.x * blockDim.x;
    int yIndex = threadIdx.y + blockIdx.y * blockDim.y;

    if (xIndex < width && yIndex < height) {
        float output_val = 0.0;
        int startX = xIndex - (FILTER_SIZE / 2);
        int startY = yIndex - (FILTER_SIZE / 2);

        for (int i = 0; i < FILTER_SIZE; ++i) {
            for (int j = 0; j < FILTER_SIZE; ++j) {
                int currentX = startX + i;
                int currentY = startY + j;

                if (currentX >= 0 && currentX < width && currentY >= 0 && currentY < height) {
                    output_val += input[currentY * width + currentX];
                }
            }
        }

        output_val /= (FILTER_SIZE * FILTER_SIZE);
        output[yIndex * width + xIndex] = output_val;
    }
}

int main() {
    int width, height, channels;

    // Load the image and convert to grayscale
    unsigned char* img = stbi_load("photo.jpg", &width, &height, &channels, 1);

    unsigned char* d_input, * d_output;
    cudaMalloc(&d_input, width * height * sizeof(unsigned char));
    cudaMalloc(&d_output, width * height * sizeof(unsigned char));

    cudaMemcpy(d_input, img, width * height * sizeof(unsigned char), cudaMemcpyHostToDevice);

    dim3 block(BLOCK_SIZE, BLOCK_SIZE, 1);
    dim3 grid((width + block.x - 1) / block.x, (height + block.y - 1) / block.y, 1);

    blur_kernel<<<grid, block>>>(d_input, d_output, width, height);

    cudaMemcpy(img, d_output, width * height * sizeof(unsigned char), cudaMemcpyDeviceToHost);

    // Write out the result to a new image
    stbi_write_jpg("photo_blur5.jpg", width, height, 1, img, 100);

    cudaFree(d_input);
    cudaFree(d_output);
    stbi_image_free(img);

    return 0;
}
!nvcc filt1.cu -o f1
!./f1
